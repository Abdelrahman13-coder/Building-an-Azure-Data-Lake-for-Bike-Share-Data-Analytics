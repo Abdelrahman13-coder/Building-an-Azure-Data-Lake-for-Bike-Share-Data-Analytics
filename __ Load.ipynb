{
 "cells": [
  {
   "cell_type": "markdown",
   "metadata": {
    "application/vnd.databricks.v1+cell": {
     "cellMetadata": {},
     "inputWidgets": {},
     "nuid": "96cfc75f-7e95-47f1-999d-294bda7df694",
     "showTitle": false,
     "title": ""
    }
   },
   "source": [
    "###Creating Staging tables in Delta Lake \"USING DELTA LOCATION\""
   ]
  },
  {
   "cell_type": "markdown",
   "metadata": {
    "application/vnd.databricks.v1+cell": {
     "cellMetadata": {},
     "inputWidgets": {},
     "nuid": "c173dd77-31e1-47af-be0f-a8420c67e059",
     "showTitle": false,
     "title": ""
    }
   },
   "source": [
    "[How to check if a Hive table exists using PySpark](https://stackoverflow.com/questions/58067388/how-to-check-if-a-hive-table-exists-using-pyspark)"
   ]
  },
  {
   "cell_type": "code",
   "execution_count": 0,
   "metadata": {
    "application/vnd.databricks.v1+cell": {
     "cellMetadata": {
      "byteLimit": 2048000,
      "rowLimit": 10000
     },
     "inputWidgets": {},
     "nuid": "1cc4820d-e879-4861-879b-b1bf36a3d8ad",
     "showTitle": false,
     "title": ""
    }
   },
   "outputs": [],
   "source": [
    "# Create table 'staging_payments\" if not exist \"USING DELTA LOCATION\"\n",
    "if(spark._jsparkSession.catalog().tableExists('delta.staging_payments') == True):\n",
    "    spark.sql(\"DROP TABLE IF EXISTS staging_payments\")\n",
    "else:\n",
    "    spark.sql(\"CREATE TABLE staging_payments \" \\\n",
    "  \"USING DELTA LOCATION '/delta/payments'\")"
   ]
  },
  {
   "cell_type": "code",
   "execution_count": 0,
   "metadata": {
    "application/vnd.databricks.v1+cell": {
     "cellMetadata": {
      "byteLimit": 2048000,
      "rowLimit": 10000
     },
     "inputWidgets": {},
     "nuid": "6d178bea-cf6d-4fa2-90ce-ea6959ad9fb0",
     "showTitle": false,
     "title": ""
    }
   },
   "outputs": [],
   "source": [
    "# Create table 'staging_trips\" if not exist \"USING DELTA LOCATION\"\n",
    "if(spark._jsparkSession.catalog().tableExists('delta.staging_trips') == True):\n",
    "    spark.sql(\"DROP TABLE IF EXISTS staging_trips\")\n",
    "else:\n",
    "    spark.sql(\"CREATE TABLE staging_trips \" \\\n",
    "  \"USING DELTA LOCATION '/delta/trips'\")"
   ]
  },
  {
   "cell_type": "code",
   "execution_count": 0,
   "metadata": {
    "application/vnd.databricks.v1+cell": {
     "cellMetadata": {
      "byteLimit": 2048000,
      "rowLimit": 10000
     },
     "inputWidgets": {},
     "nuid": "3873d045-649a-42c2-93f7-ab763dd21623",
     "showTitle": false,
     "title": ""
    }
   },
   "outputs": [],
   "source": [
    "# Create table 'staging_stations\" if not exist \"USING DELTA LOCATION\"\n",
    "if(spark._jsparkSession.catalog().tableExists('delta.stations') == True):\n",
    "    spark.sql(\"DROP TABLE IF EXISTS staging_stations\")\n",
    "else:\n",
    "    spark.sql(\"CREATE TABLE staging_stations \" \\\n",
    "  \"USING DELTA LOCATION '/delta/stations'\")"
   ]
  },
  {
   "cell_type": "code",
   "execution_count": 0,
   "metadata": {
    "application/vnd.databricks.v1+cell": {
     "cellMetadata": {
      "byteLimit": 2048000,
      "rowLimit": 10000
     },
     "inputWidgets": {},
     "nuid": "e98d2bdc-ef1d-4669-bc85-e4f0c0f40227",
     "showTitle": false,
     "title": ""
    }
   },
   "outputs": [],
   "source": [
    "# Create table 'staging_riders' if not exist \"USING DELTA LOCATION\"\n",
    "if(spark._jsparkSession.catalog().tableExists('delta.riders') == True):\n",
    "    spark.sql(\"DROP TABLE IF EXISTS staging_riders\")\n",
    "else:\n",
    "    spark.sql(\"CREATE TABLE staging_riders \" \\\n",
    "  \"USING DELTA LOCATION '/delta/riders'\")"
   ]
  }
 ],
 "metadata": {
  "application/vnd.databricks.v1+notebook": {
   "dashboards": [],
   "language": "python",
   "notebookMetadata": {
    "pythonIndentUnit": 4
   },
   "notebookName": "|| Load",
   "widgets": {}
  }
 },
 "nbformat": 4,
 "nbformat_minor": 0
}
